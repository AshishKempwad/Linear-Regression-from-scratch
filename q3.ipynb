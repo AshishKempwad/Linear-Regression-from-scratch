{
 "cells": [
  {
   "cell_type": "markdown",
   "metadata": {},
   "source": [
    "# Linear Regression"
   ]
  },
  {
   "cell_type": "markdown",
   "metadata": {},
   "source": [
    "Linear Regression is a machine learning algorithm based on supervised learning. It performs a regression task. Regression models a target prediction value based on independent variables. It is mostly used for finding out the relationship between variables and forecasting. Different regression models differ based on – the kind of relationship between dependent and independent variables, they are considering and the number of independent variables being used."
   ]
  },
  {
   "cell_type": "code",
   "execution_count": 1,
   "metadata": {},
   "outputs": [],
   "source": [
    "import numpy as np\n",
    "import pandas as pd \n",
    "from matplotlib import pyplot as plt\n",
    "from sklearn.preprocessing import MinMaxScaler"
   ]
  },
  {
   "cell_type": "code",
   "execution_count": 2,
   "metadata": {},
   "outputs": [],
   "source": [
    "dataset=pd.read_csv('airfoil.csv',header=None)"
   ]
  },
  {
   "cell_type": "code",
   "execution_count": 3,
   "metadata": {},
   "outputs": [
    {
     "data": {
      "text/html": [
       "<div>\n",
       "<style scoped>\n",
       "    .dataframe tbody tr th:only-of-type {\n",
       "        vertical-align: middle;\n",
       "    }\n",
       "\n",
       "    .dataframe tbody tr th {\n",
       "        vertical-align: top;\n",
       "    }\n",
       "\n",
       "    .dataframe thead th {\n",
       "        text-align: right;\n",
       "    }\n",
       "</style>\n",
       "<table border=\"1\" class=\"dataframe\">\n",
       "  <thead>\n",
       "    <tr style=\"text-align: right;\">\n",
       "      <th></th>\n",
       "      <th>0</th>\n",
       "      <th>1</th>\n",
       "      <th>2</th>\n",
       "      <th>3</th>\n",
       "      <th>4</th>\n",
       "      <th>5</th>\n",
       "    </tr>\n",
       "  </thead>\n",
       "  <tbody>\n",
       "    <tr>\n",
       "      <th>0</th>\n",
       "      <td>8000.0</td>\n",
       "      <td>4.0</td>\n",
       "      <td>0.2286</td>\n",
       "      <td>39.6</td>\n",
       "      <td>0.004738</td>\n",
       "      <td>113.129</td>\n",
       "    </tr>\n",
       "    <tr>\n",
       "      <th>1</th>\n",
       "      <td>6300.0</td>\n",
       "      <td>0.0</td>\n",
       "      <td>0.0508</td>\n",
       "      <td>55.5</td>\n",
       "      <td>0.000762</td>\n",
       "      <td>132.796</td>\n",
       "    </tr>\n",
       "    <tr>\n",
       "      <th>2</th>\n",
       "      <td>400.0</td>\n",
       "      <td>4.0</td>\n",
       "      <td>0.2286</td>\n",
       "      <td>55.5</td>\n",
       "      <td>0.004286</td>\n",
       "      <td>123.274</td>\n",
       "    </tr>\n",
       "    <tr>\n",
       "      <th>3</th>\n",
       "      <td>1250.0</td>\n",
       "      <td>15.4</td>\n",
       "      <td>0.0508</td>\n",
       "      <td>39.6</td>\n",
       "      <td>0.028259</td>\n",
       "      <td>126.743</td>\n",
       "    </tr>\n",
       "    <tr>\n",
       "      <th>4</th>\n",
       "      <td>800.0</td>\n",
       "      <td>7.3</td>\n",
       "      <td>0.2286</td>\n",
       "      <td>39.6</td>\n",
       "      <td>0.012348</td>\n",
       "      <td>126.299</td>\n",
       "    </tr>\n",
       "  </tbody>\n",
       "</table>\n",
       "</div>"
      ],
      "text/plain": [
       "        0     1       2     3         4        5\n",
       "0  8000.0   4.0  0.2286  39.6  0.004738  113.129\n",
       "1  6300.0   0.0  0.0508  55.5  0.000762  132.796\n",
       "2   400.0   4.0  0.2286  55.5  0.004286  123.274\n",
       "3  1250.0  15.4  0.0508  39.6  0.028259  126.743\n",
       "4   800.0   7.3  0.2286  39.6  0.012348  126.299"
      ]
     },
     "execution_count": 3,
     "metadata": {},
     "output_type": "execute_result"
    }
   ],
   "source": [
    "dataset.head()"
   ]
  },
  {
   "cell_type": "code",
   "execution_count": 4,
   "metadata": {},
   "outputs": [],
   "source": [
    "x=dataset.iloc[:,:-1]\n",
    "y=dataset.iloc[:,5]\n",
    "\n"
   ]
  },
  {
   "cell_type": "code",
   "execution_count": 5,
   "metadata": {},
   "outputs": [
    {
     "data": {
      "text/html": [
       "<div>\n",
       "<style scoped>\n",
       "    .dataframe tbody tr th:only-of-type {\n",
       "        vertical-align: middle;\n",
       "    }\n",
       "\n",
       "    .dataframe tbody tr th {\n",
       "        vertical-align: top;\n",
       "    }\n",
       "\n",
       "    .dataframe thead th {\n",
       "        text-align: right;\n",
       "    }\n",
       "</style>\n",
       "<table border=\"1\" class=\"dataframe\">\n",
       "  <thead>\n",
       "    <tr style=\"text-align: right;\">\n",
       "      <th></th>\n",
       "      <th>0</th>\n",
       "      <th>1</th>\n",
       "      <th>2</th>\n",
       "      <th>3</th>\n",
       "      <th>4</th>\n",
       "    </tr>\n",
       "  </thead>\n",
       "  <tbody>\n",
       "    <tr>\n",
       "      <th>0</th>\n",
       "      <td>8000.0</td>\n",
       "      <td>4.0</td>\n",
       "      <td>0.2286</td>\n",
       "      <td>39.6</td>\n",
       "      <td>0.004738</td>\n",
       "    </tr>\n",
       "    <tr>\n",
       "      <th>1</th>\n",
       "      <td>6300.0</td>\n",
       "      <td>0.0</td>\n",
       "      <td>0.0508</td>\n",
       "      <td>55.5</td>\n",
       "      <td>0.000762</td>\n",
       "    </tr>\n",
       "    <tr>\n",
       "      <th>2</th>\n",
       "      <td>400.0</td>\n",
       "      <td>4.0</td>\n",
       "      <td>0.2286</td>\n",
       "      <td>55.5</td>\n",
       "      <td>0.004286</td>\n",
       "    </tr>\n",
       "    <tr>\n",
       "      <th>3</th>\n",
       "      <td>1250.0</td>\n",
       "      <td>15.4</td>\n",
       "      <td>0.0508</td>\n",
       "      <td>39.6</td>\n",
       "      <td>0.028259</td>\n",
       "    </tr>\n",
       "    <tr>\n",
       "      <th>4</th>\n",
       "      <td>800.0</td>\n",
       "      <td>7.3</td>\n",
       "      <td>0.2286</td>\n",
       "      <td>39.6</td>\n",
       "      <td>0.012348</td>\n",
       "    </tr>\n",
       "  </tbody>\n",
       "</table>\n",
       "</div>"
      ],
      "text/plain": [
       "        0     1       2     3         4\n",
       "0  8000.0   4.0  0.2286  39.6  0.004738\n",
       "1  6300.0   0.0  0.0508  55.5  0.000762\n",
       "2   400.0   4.0  0.2286  55.5  0.004286\n",
       "3  1250.0  15.4  0.0508  39.6  0.028259\n",
       "4   800.0   7.3  0.2286  39.6  0.012348"
      ]
     },
     "execution_count": 5,
     "metadata": {},
     "output_type": "execute_result"
    }
   ],
   "source": [
    "x.head()"
   ]
  },
  {
   "cell_type": "code",
   "execution_count": 6,
   "metadata": {},
   "outputs": [
    {
     "data": {
      "text/plain": [
       "0    113.129\n",
       "1    132.796\n",
       "2    123.274\n",
       "3    126.743\n",
       "4    126.299\n",
       "Name: 5, dtype: float64"
      ]
     },
     "execution_count": 6,
     "metadata": {},
     "output_type": "execute_result"
    }
   ],
   "source": [
    "y.head()"
   ]
  },
  {
   "cell_type": "markdown",
   "metadata": {},
   "source": [
    "# The weights have been defined on the basis of experiment on the data over numerous values"
   ]
  },
  {
   "cell_type": "code",
   "execution_count": 7,
   "metadata": {},
   "outputs": [
    {
     "data": {
      "text/plain": [
       "(6, 1)"
      ]
     },
     "execution_count": 7,
     "metadata": {},
     "output_type": "execute_result"
    }
   ],
   "source": [
    "weights=[1,1,1,1,1,1]\n",
    "weights=np.asarray(weights)\n",
    "weights=weights.reshape(len(weights),1)\n",
    "weights.shape"
   ]
  },
  {
   "cell_type": "code",
   "execution_count": 8,
   "metadata": {},
   "outputs": [
    {
     "data": {
      "text/plain": [
       "(6, 1)"
      ]
     },
     "execution_count": 8,
     "metadata": {},
     "output_type": "execute_result"
    }
   ],
   "source": [
    "weight1=[0,0,0,0,0,0]\n",
    "weight1=np.asarray(weight1)\n",
    "weight1=weight1.reshape(len(weight1),1)\n",
    "weights.shape"
   ]
  },
  {
   "cell_type": "code",
   "execution_count": 9,
   "metadata": {},
   "outputs": [
    {
     "data": {
      "text/plain": [
       "(6, 1)"
      ]
     },
     "execution_count": 9,
     "metadata": {},
     "output_type": "execute_result"
    }
   ],
   "source": [
    "weight2=[1,1,1,1,1,1]\n",
    "weight2=np.asarray(weight2)\n",
    "weight2=weight2.reshape(len(weight2),1)\n",
    "weight2.shape"
   ]
  },
  {
   "cell_type": "code",
   "execution_count": 10,
   "metadata": {},
   "outputs": [
    {
     "data": {
      "text/plain": [
       "(6, 1)"
      ]
     },
     "execution_count": 10,
     "metadata": {},
     "output_type": "execute_result"
    }
   ],
   "source": [
    "weight3=[2,2,2,2,2,2]\n",
    "weight3=np.asarray(weight3)\n",
    "weight3=weight3.reshape(len(weight3),1)\n",
    "weights.shape"
   ]
  },
  {
   "cell_type": "code",
   "execution_count": 11,
   "metadata": {},
   "outputs": [],
   "source": [
    "scaler=MinMaxScaler()"
   ]
  },
  {
   "cell_type": "code",
   "execution_count": 12,
   "metadata": {},
   "outputs": [],
   "source": [
    "x=scaler.fit_transform(x)"
   ]
  },
  {
   "cell_type": "code",
   "execution_count": 13,
   "metadata": {},
   "outputs": [
    {
     "data": {
      "text/plain": [
       "array([[0.39393939, 0.18018018, 0.72727273, 0.19949495, 0.07476783],\n",
       "       [0.30808081, 0.        , 0.09090909, 0.6010101 , 0.00622727],\n",
       "       [0.01010101, 0.18018018, 0.72727273, 0.6010101 , 0.06697943],\n",
       "       ...,\n",
       "       [0.03030303, 0.09009009, 0.72727273, 0.6010101 , 0.04713909],\n",
       "       [0.1489899 , 0.14864865, 0.27272727, 1.        , 0.02805586],\n",
       "       [0.02171717, 0.18018018, 1.        , 0.19949495, 0.0930119 ]])"
      ]
     },
     "execution_count": 13,
     "metadata": {},
     "output_type": "execute_result"
    }
   ],
   "source": [
    "x"
   ]
  },
  {
   "cell_type": "code",
   "execution_count": 14,
   "metadata": {},
   "outputs": [],
   "source": [
    "x=pd.DataFrame(x)\n"
   ]
  },
  {
   "cell_type": "code",
   "execution_count": 15,
   "metadata": {},
   "outputs": [
    {
     "name": "stdout",
     "output_type": "stream",
     "text": [
      "(1202, 5)\n"
     ]
    },
    {
     "data": {
      "text/html": [
       "<div>\n",
       "<style scoped>\n",
       "    .dataframe tbody tr th:only-of-type {\n",
       "        vertical-align: middle;\n",
       "    }\n",
       "\n",
       "    .dataframe tbody tr th {\n",
       "        vertical-align: top;\n",
       "    }\n",
       "\n",
       "    .dataframe thead th {\n",
       "        text-align: right;\n",
       "    }\n",
       "</style>\n",
       "<table border=\"1\" class=\"dataframe\">\n",
       "  <thead>\n",
       "    <tr style=\"text-align: right;\">\n",
       "      <th></th>\n",
       "      <th>0</th>\n",
       "      <th>1</th>\n",
       "      <th>2</th>\n",
       "      <th>3</th>\n",
       "      <th>4</th>\n",
       "    </tr>\n",
       "  </thead>\n",
       "  <tbody>\n",
       "    <tr>\n",
       "      <th>0</th>\n",
       "      <td>0.393939</td>\n",
       "      <td>0.180180</td>\n",
       "      <td>0.727273</td>\n",
       "      <td>0.199495</td>\n",
       "      <td>0.074768</td>\n",
       "    </tr>\n",
       "    <tr>\n",
       "      <th>1</th>\n",
       "      <td>0.308081</td>\n",
       "      <td>0.000000</td>\n",
       "      <td>0.090909</td>\n",
       "      <td>0.601010</td>\n",
       "      <td>0.006227</td>\n",
       "    </tr>\n",
       "    <tr>\n",
       "      <th>2</th>\n",
       "      <td>0.010101</td>\n",
       "      <td>0.180180</td>\n",
       "      <td>0.727273</td>\n",
       "      <td>0.601010</td>\n",
       "      <td>0.066979</td>\n",
       "    </tr>\n",
       "    <tr>\n",
       "      <th>3</th>\n",
       "      <td>0.053030</td>\n",
       "      <td>0.693694</td>\n",
       "      <td>0.090909</td>\n",
       "      <td>0.199495</td>\n",
       "      <td>0.480233</td>\n",
       "    </tr>\n",
       "    <tr>\n",
       "      <th>4</th>\n",
       "      <td>0.030303</td>\n",
       "      <td>0.328829</td>\n",
       "      <td>0.727273</td>\n",
       "      <td>0.199495</td>\n",
       "      <td>0.205952</td>\n",
       "    </tr>\n",
       "  </tbody>\n",
       "</table>\n",
       "</div>"
      ],
      "text/plain": [
       "          0         1         2         3         4\n",
       "0  0.393939  0.180180  0.727273  0.199495  0.074768\n",
       "1  0.308081  0.000000  0.090909  0.601010  0.006227\n",
       "2  0.010101  0.180180  0.727273  0.601010  0.066979\n",
       "3  0.053030  0.693694  0.090909  0.199495  0.480233\n",
       "4  0.030303  0.328829  0.727273  0.199495  0.205952"
      ]
     },
     "execution_count": 15,
     "metadata": {},
     "output_type": "execute_result"
    }
   ],
   "source": [
    "print(x.shape)\n",
    "x.head()"
   ]
  },
  {
   "cell_type": "markdown",
   "metadata": {},
   "source": [
    "# We split the data in train and test phase"
   ]
  },
  {
   "cell_type": "code",
   "execution_count": 16,
   "metadata": {},
   "outputs": [],
   "source": [
    "from sklearn.model_selection import train_test_split"
   ]
  },
  {
   "cell_type": "code",
   "execution_count": 17,
   "metadata": {},
   "outputs": [],
   "source": [
    "X_train, X_test, y_train, y_test = train_test_split(x,y, test_size=0.3,random_state=42)"
   ]
  },
  {
   "cell_type": "code",
   "execution_count": 18,
   "metadata": {},
   "outputs": [
    {
     "data": {
      "text/plain": [
       "pandas.core.frame.DataFrame"
      ]
     },
     "execution_count": 18,
     "metadata": {},
     "output_type": "execute_result"
    }
   ],
   "source": [
    "type(X_train)\n",
    "Bias_array=[1]*(len(X_train))\n",
    "X_train.insert(loc=0,column='bias',value=Bias_array)\n",
    "type(X_train)"
   ]
  },
  {
   "cell_type": "code",
   "execution_count": 19,
   "metadata": {},
   "outputs": [],
   "source": [
    "Bias_array1=[1]*(len(X_test))\n",
    "X_test.insert(loc=0,column='bias',value=Bias_array1)"
   ]
  },
  {
   "cell_type": "code",
   "execution_count": 20,
   "metadata": {},
   "outputs": [
    {
     "data": {
      "text/plain": [
       "pandas.core.frame.DataFrame"
      ]
     },
     "execution_count": 20,
     "metadata": {},
     "output_type": "execute_result"
    }
   ],
   "source": [
    "y_test=pd.DataFrame(y_test)\n",
    "type(y_test)"
   ]
  },
  {
   "cell_type": "code",
   "execution_count": 21,
   "metadata": {},
   "outputs": [
    {
     "data": {
      "text/plain": [
       "pandas.core.frame.DataFrame"
      ]
     },
     "execution_count": 21,
     "metadata": {},
     "output_type": "execute_result"
    }
   ],
   "source": [
    "y_train=pd.DataFrame(y_train)\n",
    "type(y_train)"
   ]
  },
  {
   "cell_type": "code",
   "execution_count": 22,
   "metadata": {},
   "outputs": [],
   "source": [
    "y_train=y_train.to_numpy()"
   ]
  },
  {
   "cell_type": "code",
   "execution_count": 23,
   "metadata": {},
   "outputs": [],
   "source": [
    "y_test=y_test.to_numpy()"
   ]
  },
  {
   "cell_type": "code",
   "execution_count": 24,
   "metadata": {},
   "outputs": [],
   "source": [
    "y_train=y_train.reshape(len(y_train),1)"
   ]
  },
  {
   "cell_type": "code",
   "execution_count": 25,
   "metadata": {},
   "outputs": [],
   "source": [
    "y_test=y_test.reshape(len(y_test),1)"
   ]
  },
  {
   "cell_type": "code",
   "execution_count": 26,
   "metadata": {},
   "outputs": [
    {
     "data": {
      "text/plain": [
       "(361, 1)"
      ]
     },
     "execution_count": 26,
     "metadata": {},
     "output_type": "execute_result"
    }
   ],
   "source": [
    "# y_train\n",
    "y_test.shape"
   ]
  },
  {
   "cell_type": "markdown",
   "metadata": {},
   "source": [
    "# The algorithm for update of the weights,gradient desecnt"
   ]
  },
  {
   "cell_type": "code",
   "execution_count": 27,
   "metadata": {},
   "outputs": [],
   "source": [
    "learning_parameter=0.1\n",
    "iters=1000\n",
    "for i in range(0,iters):\n",
    "    error=X_train.dot(weights)-y_train\n",
    "    cost_fun=(X_train.T.dot(error))\n",
    "#     print(cost_fun)\n",
    "    weights=weights-(learning_parameter*cost_fun)*(1/(len(X_train)))\n",
    "#     print(weights)\n",
    "predict=X_test.dot(weights)   \n",
    "# weights.shape  \n",
    "# y_train.shape\n",
    "# predict"
   ]
  },
  {
   "cell_type": "markdown",
   "metadata": {},
   "source": [
    "# R2 Score prediction"
   ]
  },
  {
   "cell_type": "code",
   "execution_count": 28,
   "metadata": {},
   "outputs": [
    {
     "name": "stdout",
     "output_type": "stream",
     "text": [
      "R2 Score =  0.3972846877457765\n"
     ]
    }
   ],
   "source": [
    "from sklearn.metrics import r2_score\n",
    "print(\"R2 Score = \",r2_score(y_test,predict))"
   ]
  },
  {
   "cell_type": "markdown",
   "metadata": {},
   "source": [
    "# How number of iterations  affects the mean squared error for 3 different initial regression coefficients (weights) for fixed value of learning parameter"
   ]
  },
  {
   "cell_type": "code",
   "execution_count": 736,
   "metadata": {},
   "outputs": [
    {
     "name": "stdout",
     "output_type": "stream",
     "text": [
      "[0.3806727037952946, 0.3808344401531737, 0.3809955276721818, 0.38115596932890317]\n"
     ]
    }
   ],
   "source": [
    "learning_parameter=0.1\n",
    "iters_loop=[1000,5000,10000,20000]\n",
    "w1=[]\n",
    "for i in iters_loop:\n",
    "    \n",
    "    \n",
    "    error=X_train.dot(weight1)-y_train\n",
    "    cost_fun=(X_train.T.dot(error))\n",
    "#     print(cost_fun)\n",
    "    weight1=weight1-(learning_parameter*cost_fun)*(1/(len(X_train)))\n",
    "#     print(weights)\n",
    "    predict1=X_test.dot(weight1) \n",
    "    w1.append(r2_score(y_test,predict1))\n",
    "print(w1)"
   ]
  },
  {
   "cell_type": "code",
   "execution_count": 704,
   "metadata": {},
   "outputs": [
    {
     "name": "stdout",
     "output_type": "stream",
     "text": [
      "[0.39179403820386016, 0.39191228063517125, 0.39203006917029115, 0.3921474057911989]\n"
     ]
    }
   ],
   "source": [
    "learning_parameter=0.1\n",
    "iters_loop=[1000,5000,10000,20000]\n",
    "w2=[]\n",
    "for i in iters_loop:\n",
    "    error=X_train.dot(weight2)-y_train\n",
    "    cost_fun=(X_train.T.dot(error))\n",
    "#     print(cost_fun)\n",
    "    weight2=weight2-(learning_parameter*cost_fun)*(1/(len(X_train)))\n",
    "#     print(weights)\n",
    "    predict=X_test.dot(weight2)\n",
    "    w2.append(r2_score(y_test,predict))\n",
    "    \n",
    "print(w2)"
   ]
  },
  {
   "cell_type": "code",
   "execution_count": 752,
   "metadata": {},
   "outputs": [
    {
     "name": "stdout",
     "output_type": "stream",
     "text": [
      "[0.36621624878972237, 0.3664375745110491, 0.3666579741090359, 0.3668774520375888]\n"
     ]
    }
   ],
   "source": [
    "learning_parameter=0.1\n",
    "iters_loop=[1000,5000,10000,20000]\n",
    "w3=[]\n",
    "for i in iters_loop:\n",
    "    error=X_train.dot(weight3)-y_train\n",
    "    cost_fun=(X_train.T.dot(error))\n",
    "#     print(cost_fun)\n",
    "    weight3=weight3-(learning_parameter*cost_fun)*(1/(len(X_train)))\n",
    "#     print(weights)\n",
    "    predict3=X_test.dot(weight3)   \n",
    "    w3.append(r2_score(y_test,predict3))\n",
    "print(w3)    "
   ]
  },
  {
   "cell_type": "code",
   "execution_count": 763,
   "metadata": {},
   "outputs": [
    {
     "data": {
      "image/png": "[encoded data removed]",
      "text/plain": [
       "<Figure size 432x288 with 1 Axes>"
      ]
     },
     "metadata": {
      "needs_background": "light"
     },
     "output_type": "display_data"
    }
   ],
   "source": [
    "converge_iter=[1000,5000,10000,20000]\n",
    "plt.plot(converge_iter,w1,'b--',label='w1[0,0,0,0,0,0]')\n",
    "plt.plot(converge_iter,w2,'g--',label='w2[1,1,1,1,1,1]')\n",
    "plt.plot(converge_iter,w3,'rs--',label='w3[2,2,2,2,2,2]')\n",
    "plt.grid()\n",
    "plt.legend()\n",
    "plt.show()\n"
   ]
  },
  {
   "cell_type": "markdown",
   "metadata": {},
   "source": [
    "# How number of iterations  affects the mean squared error for 3 different  values learning parameter  and fixed initial regression coefficients (weights) ."
   ]
  },
  {
   "cell_type": "code",
   "execution_count": 754,
   "metadata": {},
   "outputs": [
    {
     "name": "stdout",
     "output_type": "stream",
     "text": [
      "[0.39749870382554364, 0.3977109639699131, 0.39792148465797683, 0.39813028220029245]\n"
     ]
    }
   ],
   "source": [
    "learning_parameter=0.22\n",
    "iters_loop=[1000,5000,10000,20000]\n",
    "w1=[]\n",
    "for i in iters_loop:\n",
    "    error=X_train.dot(weights)-y_train\n",
    "    cost_fun=(X_train.T.dot(error))\n",
    "#     print(cost_fun)\n",
    "    weights=weights-(learning_parameter*cost_fun)*(1/(len(X_train)))\n",
    "#     print(weights)\n",
    "    predict1=X_test.dot(weights)\n",
    "    w1.append(r2_score(y_test,predict1))\n",
    "print(w1)\n"
   ]
  },
  {
   "cell_type": "code",
   "execution_count": 756,
   "metadata": {},
   "outputs": [
    {
     "name": "stdout",
     "output_type": "stream",
     "text": [
      "[0.3985992054564622, 0.39905946057636466, 0.3995112310784199, 0.399954696259466]\n"
     ]
    }
   ],
   "source": [
    "learning_parameter=0.5\n",
    "iters_loop=[1000,5000,10000,20000]\n",
    "w2=[]\n",
    "for i in iters_loop:\n",
    "    error=X_train.dot(weights)-y_train\n",
    "    cost_fun=(X_train.T.dot(error))\n",
    "#     print(cost_fun)\n",
    "    weights=weights-(learning_parameter*cost_fun)*(1/(len(X_train)))\n",
    "#     print(weights)\n",
    "    predict2=X_test.dot(weights)\n",
    "    w2.append(r2_score(y_test,predict2))\n",
    "print(w2)\n"
   ]
  },
  {
   "cell_type": "code",
   "execution_count": 757,
   "metadata": {},
   "outputs": [
    {
     "name": "stdout",
     "output_type": "stream",
     "text": [
      "[0.4007341631296317, 0.4014881240612821, 0.4022175384610457, 0.40292332671412656]\n"
     ]
    }
   ],
   "source": [
    "learning_parameter=0.9\n",
    "iters_loop=[1000,5000,10000,20000]\n",
    "w3=[]\n",
    "for i in iters_loop:\n",
    "    error=X_train.dot(weights)-y_train\n",
    "    cost_fun=(X_train.T.dot(error))\n",
    "#     print(cost_fun)\n",
    "    weights=weights-(learning_parameter*cost_fun)*(1/(len(X_train)))\n",
    "#     print(weights)\n",
    "    predict3=X_test.dot(weights)\n",
    "    w3.append(r2_score(y_test,predict3))\n",
    "print(w3)\n"
   ]
  },
  {
   "cell_type": "code",
   "execution_count": 761,
   "metadata": {},
   "outputs": [
    {
     "data": {
      "image/png": "[encoded data removed]",
      "text/plain": [
       "<Figure size 432x288 with 1 Axes>"
      ]
     },
     "metadata": {
      "needs_background": "light"
     },
     "output_type": "display_data"
    }
   ],
   "source": [
    "converge_iter=[1000,5000,10000,20000]\n",
    "plt.plot(converge_iter,w1,'b--',label='alpha=0.22')\n",
    "plt.plot(converge_iter,w2,'g--',label='alpha=0.5')\n",
    "plt.plot(converge_iter,w3,'rs--',label='alpha=0.9')\n",
    "plt.grid()\n",
    "plt.legend()\n",
    "plt.show()\n"
   ]
  },
  {
   "cell_type": "markdown",
   "metadata": {},
   "source": [
    "# Questions to be experimented:-"
   ]
  },
  {
   "cell_type": "markdown",
   "metadata": {},
   "source": [
    "# Q)If you want to apply regression on some dataset but one of it’s features has missing values under below given conditions, how will you approach the problem. (No need of Code Experimentation)"
   ]
  },
  {
   "cell_type": "markdown",
   "metadata": {},
   "source": [
    "\n",
    "(a) When 0-0.5% of values are missing of that feature\n",
    "\n",
    "=> This could be handled by removing the rows which are missing(of corresponding feature).\n",
    "\n",
    "\n",
    "(b) When 8-10% of values are missing of that feature\n",
    "\n",
    "=> Fill in the missing with either mean/median(approximation)\n",
    "\n",
    "\n",
    "(c) When 60-70% of values are missing of that feature\n",
    "\n",
    "=> If nearly such a large portion of data is missing then we can DROP that feature altogether which would be a smart trick rather than using any approximation."
   ]
  }
 ],
 "metadata": {
  "kernelspec": {
   "display_name": "Python 3",
   "language": "python",
   "name": "python3"
  },
  "language_info": {
   "codemirror_mode": {
    "name": "ipython",
    "version": 3
   },
   "file_extension": ".py",
   "mimetype": "text/x-python",
   "name": "python",
   "nbconvert_exporter": "python",
   "pygments_lexer": "ipython3",
   "version": "3.7.3"
  }
 },
 "nbformat": 4,
 "nbformat_minor": 2
}
